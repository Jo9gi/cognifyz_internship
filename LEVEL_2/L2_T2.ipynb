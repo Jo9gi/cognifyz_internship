{
 "cells": [
  {
   "cell_type": "markdown",
   "metadata": {},
   "source": [
    "Task 2: Cuisine Combination\n",
    "Identify the most common combinations of\n",
    "cuisines in the dataset.\n",
    "\n",
    "Determine if certain cuisine combinations\n",
    "tend to have higher ratings.\n"
   ]
  },
  {
   "cell_type": "code",
   "execution_count": 9,
   "metadata": {},
   "outputs": [],
   "source": [
    "import pandas as pd\n",
    "import numpy as np\n",
    "Data_set = pd.read_csv(\"E:\\cognyfiz\\Dataset.csv\")"
   ]
  },
  {
   "cell_type": "code",
   "execution_count": 10,
   "metadata": {},
   "outputs": [
    {
     "name": "stdout",
     "output_type": "stream",
     "text": [
      "          Cuisine 1     Cuisine 2  Count\n",
      "0      North Indian       Chinese   1516\n",
      "1      North Indian       Mughlai    728\n",
      "2      North Indian     Fast Food    377\n",
      "3           Chinese     Fast Food    331\n",
      "4      North Indian  South Indian    314\n",
      "...             ...           ...    ...\n",
      "1574         German   Continental      1\n",
      "1575         German     Ice Cream      1\n",
      "1576         German      Sandwich      1\n",
      "1577           Goan      American      1\n",
      "1578  World Cuisine    Patisserie      1\n",
      "\n",
      "[1579 rows x 3 columns]\n"
     ]
    }
   ],
   "source": [
    "#Identifies the most common combinations of cuisines in the dataset\n",
    "Data_set_cleaned = Data_set.dropna(subset=[\"Cuisines\"])\n",
    "cuisines = Data_set_cleaned[\"Cuisines\"].str.split(\", \")\n",
    "cuisine_combinations = []\n",
    "for cuisine_list in cuisines:\n",
    "    for i in range(len(cuisine_list)):\n",
    "        for j in range(i + 1, len(cuisine_list)):\n",
    "            cuisine_combinations.append((cuisine_list[i], cuisine_list[j]))\n",
    "cuisine_combinations = list(map(lambda x: (x[0], x[1]), cuisine_combinations))\n",
    "cuisine_combinations = pd.DataFrame(cuisine_combinations, columns=[\"Cuisine 1\", \"Cuisine 2\"])\n",
    "cuisine_combinations = cuisine_combinations.value_counts().reset_index(name=\"Count\")\n",
    "print(cuisine_combinations)"
   ]
  },
  {
   "cell_type": "code",
   "execution_count": 11,
   "metadata": {},
   "outputs": [
    {
     "name": "stdout",
     "output_type": "stream",
     "text": [
      "Average Rating: 2.2269\n"
     ]
    }
   ],
   "source": [
    "#Determines if certain cuisine combinations tend to have higher ratings\n",
    "\n",
    "cuisine_combinations_with_ratings = cuisine_combinations[cuisine_combinations[\"Count\"] > 1]\n",
    "average_ratings = []\n",
    "for cuisine_combination in cuisine_combinations_with_ratings.index:\n",
    "    cuisine_1 = cuisine_combinations[\"Cuisine 1\"]\n",
    "    cuisine_2 = cuisine_combinations[\"Cuisine 2\"]\n",
    "    filtered_df = df[(df[\"Cuisines\"].isin(cuisine_1)) & (df[\"Cuisines\"].isin(cuisine_2))]    \n",
    "    average_rating = filtered_df[\"Aggregate rating\"].mean()\n",
    "    #average_ratings.append((cuisine_combination, average_rating))\n",
    "print(f\"Average Rating: {average_rating:.4f}\")\n",
    "#for cuisine_combination, average_rating in average_ratings:\n",
    "#   print(\"{}: {}\".format(cuisine_combination, average_rating))"
   ]
  }
 ],
 "metadata": {
  "kernelspec": {
   "display_name": "Python 3",
   "language": "python",
   "name": "python3"
  },
  "language_info": {
   "codemirror_mode": {
    "name": "ipython",
    "version": 3
   },
   "file_extension": ".py",
   "mimetype": "text/x-python",
   "name": "python",
   "nbconvert_exporter": "python",
   "pygments_lexer": "ipython3",
   "version": "3.10.8"
  },
  "orig_nbformat": 4
 },
 "nbformat": 4,
 "nbformat_minor": 2
}
